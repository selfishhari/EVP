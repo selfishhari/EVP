{
  "nbformat": 4,
  "nbformat_minor": 0,
  "metadata": {
    "colab": {
      "name": "assignment_5.ipynb",
      "version": "0.3.2",
      "provenance": [],
      "collapsed_sections": []
    },
    "kernelspec": {
      "name": "python3",
      "display_name": "Python 3"
    },
    "accelerator": "GPU"
  },
  "cells": [
    {
      "cell_type": "markdown",
      "metadata": {
        "id": "KthSgvkMmvaN",
        "colab_type": "text"
      },
      "source": [
        "In this Notebook, we concentrate on using **Image Normalization, Batch Normalization, Regularization**.\n",
        "\n",
        "Also in the end, we try to look at misclassified images"
      ]
    },
    {
      "cell_type": "code",
      "metadata": {
        "id": "0SJyVpgSxHt4",
        "colab_type": "code",
        "colab": {
          "base_uri": "https://localhost:8080/",
          "height": 34
        },
        "outputId": "17cc1883-3b72-4d8d-f96f-681e4462be94"
      },
      "source": [
        "import numpy as np\n",
        "\n",
        "from keras.models import Sequential\n",
        "from keras.layers import Dense, Dropout, Activation, Flatten, Add, BatchNormalization\n",
        "from keras.layers import Convolution2D, MaxPooling2D\n",
        "from keras.utils import np_utils\n",
        "from keras.preprocessing.image import ImageDataGenerator\n",
        "from keras.regularizers import l2\n",
        "\n",
        "from keras.datasets import mnist,cifar10"
      ],
      "execution_count": 1,
      "outputs": [
        {
          "output_type": "stream",
          "text": [
            "Using TensorFlow backend.\n"
          ],
          "name": "stderr"
        }
      ]
    },
    {
      "cell_type": "code",
      "metadata": {
        "id": "YlEUplvoxKAT",
        "colab_type": "code",
        "colab": {}
      },
      "source": [
        "(X_train, y_train), (X_test, y_test) = mnist.load_data()\n",
        "\n",
        "width, height, channels = X_train.shape[1], X_test.shape[2], 1\n",
        "\n",
        "X_train = X_train.reshape((X_train.shape[0], width, height, channels))\n",
        "\n",
        "X_test = X_test.reshape((X_test.shape[0], width, height, channels))\n"
      ],
      "execution_count": 0,
      "outputs": []
    },
    {
      "cell_type": "markdown",
      "metadata": {
        "id": "SskUjDs9nDD3",
        "colab_type": "text"
      },
      "source": [
        "**Image Normalization**\n",
        "\n",
        "Entire image is scaled to based on its pixel values.\n",
        "\n",
        "*Why? And how it helps?*\n",
        "\n",
        "Sometimes due to sensors/cameras, pixel values might not be spread accross the scale(0, 255).\n",
        "\n",
        "For some images can have pixel values only in range(for eg) of 100-150, but in our data images can vary well between 0, 255.\n",
        "\n",
        "Hence it becomes important to have a single scale so that variations in pixel values in data is consistent"
      ]
    },
    {
      "cell_type": "code",
      "metadata": {
        "id": "QQ_u3q5yk_Zf",
        "colab_type": "code",
        "colab": {}
      },
      "source": [
        "datagen = ImageDataGenerator(\n",
        "    featurewise_center=True,\n",
        "    featurewise_std_normalization=True,\n",
        "    )\n",
        "\n",
        "# compute quantities required for featurewise normalization\n",
        "# (std, mean, and principal components if ZCA whitening is applied)\n",
        "datagen.fit(X_train)"
      ],
      "execution_count": 0,
      "outputs": []
    },
    {
      "cell_type": "code",
      "metadata": {
        "id": "qNWwV0wYypgV",
        "colab_type": "code",
        "outputId": "5beb0600-36e1-4e92-e9ab-7b603a42879d",
        "colab": {
          "base_uri": "https://localhost:8080/",
          "height": 34
        }
      },
      "source": [
        "print('Data Generator mean=%.3f, std=%.3f' % (datagen.mean, datagen.std))"
      ],
      "execution_count": 4,
      "outputs": [
        {
          "output_type": "stream",
          "text": [
            "Data Generator mean=33.318, std=78.567\n"
          ],
          "name": "stdout"
        }
      ]
    },
    {
      "cell_type": "code",
      "metadata": {
        "id": "I6Y9Va-xxMXG",
        "colab_type": "code",
        "outputId": "d6a2e0a4-0a9a-4124-c683-921a7b953613",
        "colab": {
          "base_uri": "https://localhost:8080/",
          "height": 303
        }
      },
      "source": [
        "print (X_train.shape)\n",
        "from matplotlib import pyplot as plt\n",
        "%matplotlib inline\n",
        "plt.imshow(X_train[2].reshape(28,28))"
      ],
      "execution_count": 5,
      "outputs": [
        {
          "output_type": "stream",
          "text": [
            "(60000, 28, 28, 1)\n"
          ],
          "name": "stdout"
        },
        {
          "output_type": "execute_result",
          "data": {
            "text/plain": [
              "<matplotlib.image.AxesImage at 0x7f6a09dd6b38>"
            ]
          },
          "metadata": {
            "tags": []
          },
          "execution_count": 5
        },
        {
          "output_type": "display_data",
          "data": {
            "image/png": "[encoded data removed]",
            "text/plain": [
              "<Figure size 432x288 with 1 Axes>"
            ]
          },
          "metadata": {
            "tags": []
          }
        }
      ]
    },
    {
      "cell_type": "code",
      "metadata": {
        "id": "7LdYiW6ixR9e",
        "colab_type": "code",
        "colab": {}
      },
      "source": [
        "y_train[:10]\n",
        "Y_train = np_utils.to_categorical(y_train, 10)\n",
        "Y_test = np_utils.to_categorical(y_test, 10)"
      ],
      "execution_count": 0,
      "outputs": []
    },
    {
      "cell_type": "markdown",
      "metadata": {
        "id": "PtI9W23MrTAt",
        "colab_type": "text"
      },
      "source": [
        "Using BatchNormalization, along with kernel regularizers"
      ]
    },
    {
      "cell_type": "code",
      "metadata": {
        "id": "mDpXf4YQxXRm",
        "colab_type": "code",
        "outputId": "be14da6d-3715-42cf-bb89-89b9102d6dc0",
        "colab": {
          "base_uri": "https://localhost:8080/",
          "height": 1533
        }
      },
      "source": [
        "from keras.layers import Activation\n",
        "model = Sequential()\n",
        " \n",
        "model.add(Convolution2D(16, 3, 3, input_shape=(28,28,1))) #26\n",
        "model.add(BatchNormalization())\n",
        "model.add(Activation('relu'))\n",
        "model.add(Dropout(0.1))\n",
        "\n",
        "model.add(Convolution2D(32, 3, 3 )) #24\n",
        "model.add(BatchNormalization()) \n",
        "model.add(Activation('relu'))\n",
        "model.add(Dropout(0.1))\n",
        "\n",
        "model.add(Convolution2D(10, 1, 1 ) ) #22\n",
        "\n",
        "model.add(MaxPooling2D(pool_size=(2, 2)))#11\n",
        "\n",
        "model.add(Convolution2D(16, 3, 3, kernel_regularizer=l2(0.01) ))#9\n",
        "model.add(BatchNormalization()) \n",
        "model.add(Activation('relu'))\n",
        "model.add(Dropout(0.1))\n",
        "\n",
        "\n",
        "model.add(Convolution2D(16, 3, 3 ))#7\n",
        "model.add(BatchNormalization()) \n",
        "model.add(Activation('relu'))\n",
        "model.add(Dropout(0.1))\n",
        "\n",
        "\n",
        "model.add(Convolution2D(16, 3, 3 ))#5\n",
        "model.add(BatchNormalization()) \n",
        "model.add(Activation('relu'))\n",
        "model.add(Dropout(0.1))\n",
        "\n",
        "\n",
        "model.add(Convolution2D(16, 3, 3 ))#3\n",
        "model.add(BatchNormalization()) \n",
        "model.add(Activation('relu'))\n",
        "model.add(Dropout(0.1))\n",
        "\n",
        "\n",
        "model.add(Convolution2D(10, 4, 4))\n",
        "model.add(BatchNormalization()) \n",
        "model.add(Activation('relu'))\n",
        "model.add(Dropout(0.1))\n",
        "\n",
        "\n",
        "model.add(Flatten())\n",
        "model.add(Activation('softmax'))\n",
        "\n",
        "\n",
        "model.summary()"
      ],
      "execution_count": 8,
      "outputs": [
        {
          "output_type": "stream",
          "text": [
            "WARNING:tensorflow:From /usr/local/lib/python3.6/dist-packages/tensorflow/python/framework/op_def_library.py:263: colocate_with (from tensorflow.python.framework.ops) is deprecated and will be removed in a future version.\n",
            "Instructions for updating:\n",
            "Colocations handled automatically by placer.\n"
          ],
          "name": "stdout"
        },
        {
          "output_type": "stream",
          "text": [
            "/usr/local/lib/python3.6/dist-packages/ipykernel_launcher.py:4: UserWarning: Update your `Conv2D` call to the Keras 2 API: `Conv2D(16, (3, 3), input_shape=(28, 28, 1...)`\n",
            "  after removing the cwd from sys.path.\n"
          ],
          "name": "stderr"
        },
        {
          "output_type": "stream",
          "text": [
            "WARNING:tensorflow:From /usr/local/lib/python3.6/dist-packages/keras/backend/tensorflow_backend.py:3445: calling dropout (from tensorflow.python.ops.nn_ops) with keep_prob is deprecated and will be removed in a future version.\n",
            "Instructions for updating:\n",
            "Please use `rate` instead of `keep_prob`. Rate should be set to `rate = 1 - keep_prob`.\n"
          ],
          "name": "stdout"
        },
        {
          "output_type": "stream",
          "text": [
            "/usr/local/lib/python3.6/dist-packages/ipykernel_launcher.py:9: UserWarning: Update your `Conv2D` call to the Keras 2 API: `Conv2D(32, (3, 3))`\n",
            "  if __name__ == '__main__':\n",
            "/usr/local/lib/python3.6/dist-packages/ipykernel_launcher.py:14: UserWarning: Update your `Conv2D` call to the Keras 2 API: `Conv2D(10, (1, 1))`\n",
            "  \n",
            "/usr/local/lib/python3.6/dist-packages/ipykernel_launcher.py:18: UserWarning: Update your `Conv2D` call to the Keras 2 API: `Conv2D(16, (3, 3), kernel_regularizer=<keras.reg...)`\n",
            "/usr/local/lib/python3.6/dist-packages/ipykernel_launcher.py:24: UserWarning: Update your `Conv2D` call to the Keras 2 API: `Conv2D(16, (3, 3))`\n",
            "/usr/local/lib/python3.6/dist-packages/ipykernel_launcher.py:30: UserWarning: Update your `Conv2D` call to the Keras 2 API: `Conv2D(16, (3, 3))`\n",
            "/usr/local/lib/python3.6/dist-packages/ipykernel_launcher.py:36: UserWarning: Update your `Conv2D` call to the Keras 2 API: `Conv2D(16, (3, 3))`\n",
            "/usr/local/lib/python3.6/dist-packages/ipykernel_launcher.py:42: UserWarning: Update your `Conv2D` call to the Keras 2 API: `Conv2D(10, (4, 4))`\n"
          ],
          "name": "stderr"
        },
        {
          "output_type": "stream",
          "text": [
            "_________________________________________________________________\n",
            "Layer (type)                 Output Shape              Param #   \n",
            "=================================================================\n",
            "conv2d_1 (Conv2D)            (None, 26, 26, 16)        160       \n",
            "_________________________________________________________________\n",
            "batch_normalization_1 (Batch (None, 26, 26, 16)        64        \n",
            "_________________________________________________________________\n",
            "activation_1 (Activation)    (None, 26, 26, 16)        0         \n",
            "_________________________________________________________________\n",
            "dropout_1 (Dropout)          (None, 26, 26, 16)        0         \n",
            "_________________________________________________________________\n",
            "conv2d_2 (Conv2D)            (None, 24, 24, 32)        4640      \n",
            "_________________________________________________________________\n",
            "batch_normalization_2 (Batch (None, 24, 24, 32)        128       \n",
            "_________________________________________________________________\n",
            "activation_2 (Activation)    (None, 24, 24, 32)        0         \n",
            "_________________________________________________________________\n",
            "dropout_2 (Dropout)          (None, 24, 24, 32)        0         \n",
            "_________________________________________________________________\n",
            "conv2d_3 (Conv2D)            (None, 24, 24, 10)        330       \n",
            "_________________________________________________________________\n",
            "max_pooling2d_1 (MaxPooling2 (None, 12, 12, 10)        0         \n",
            "_________________________________________________________________\n",
            "conv2d_4 (Conv2D)            (None, 10, 10, 16)        1456      \n",
            "_________________________________________________________________\n",
            "batch_normalization_3 (Batch (None, 10, 10, 16)        64        \n",
            "_________________________________________________________________\n",
            "activation_3 (Activation)    (None, 10, 10, 16)        0         \n",
            "_________________________________________________________________\n",
            "dropout_3 (Dropout)          (None, 10, 10, 16)        0         \n",
            "_________________________________________________________________\n",
            "conv2d_5 (Conv2D)            (None, 8, 8, 16)          2320      \n",
            "_________________________________________________________________\n",
            "batch_normalization_4 (Batch (None, 8, 8, 16)          64        \n",
            "_________________________________________________________________\n",
            "activation_4 (Activation)    (None, 8, 8, 16)          0         \n",
            "_________________________________________________________________\n",
            "dropout_4 (Dropout)          (None, 8, 8, 16)          0         \n",
            "_________________________________________________________________\n",
            "conv2d_6 (Conv2D)            (None, 6, 6, 16)          2320      \n",
            "_________________________________________________________________\n",
            "batch_normalization_5 (Batch (None, 6, 6, 16)          64        \n",
            "_________________________________________________________________\n",
            "activation_5 (Activation)    (None, 6, 6, 16)          0         \n",
            "_________________________________________________________________\n",
            "dropout_5 (Dropout)          (None, 6, 6, 16)          0         \n",
            "_________________________________________________________________\n",
            "conv2d_7 (Conv2D)            (None, 4, 4, 16)          2320      \n",
            "_________________________________________________________________\n",
            "batch_normalization_6 (Batch (None, 4, 4, 16)          64        \n",
            "_________________________________________________________________\n",
            "activation_6 (Activation)    (None, 4, 4, 16)          0         \n",
            "_________________________________________________________________\n",
            "dropout_6 (Dropout)          (None, 4, 4, 16)          0         \n",
            "_________________________________________________________________\n",
            "conv2d_8 (Conv2D)            (None, 1, 1, 10)          2570      \n",
            "_________________________________________________________________\n",
            "batch_normalization_7 (Batch (None, 1, 1, 10)          40        \n",
            "_________________________________________________________________\n",
            "activation_7 (Activation)    (None, 1, 1, 10)          0         \n",
            "_________________________________________________________________\n",
            "dropout_7 (Dropout)          (None, 1, 1, 10)          0         \n",
            "_________________________________________________________________\n",
            "flatten_1 (Flatten)          (None, 10)                0         \n",
            "_________________________________________________________________\n",
            "activation_8 (Activation)    (None, 10)                0         \n",
            "=================================================================\n",
            "Total params: 16,604\n",
            "Trainable params: 16,360\n",
            "Non-trainable params: 244\n",
            "_________________________________________________________________\n"
          ],
          "name": "stdout"
        }
      ]
    },
    {
      "cell_type": "code",
      "metadata": {
        "id": "DbENFpLFUc7h",
        "colab_type": "code",
        "colab": {}
      },
      "source": [
        "model_filename = 'assignment_5_weights.hdf5'\n",
        "\n",
        "from keras.optimizers import Adam\n",
        "from keras.callbacks import LearningRateScheduler, ModelCheckpoint\n",
        "def scheduler(epoch, lr):\n",
        "  return round(0.003 * 1/(1 + 0.319 * epoch), 10)\n",
        "\n",
        "mcp_save = ModelCheckpoint(model_filename, save_best_only=True, monitor='val_loss', mode='min', verbose = 1)\n",
        "\n",
        "\n",
        "model.compile(loss='categorical_crossentropy', optimizer=Adam(lr=0.003), metrics=['accuracy'])"
      ],
      "execution_count": 0,
      "outputs": []
    },
    {
      "cell_type": "code",
      "metadata": {
        "id": "L2IicGJ4x3Be",
        "colab_type": "code",
        "outputId": "2f650e6c-8d76-4bae-bffb-12cacf3cce70",
        "colab": {
          "base_uri": "https://localhost:8080/",
          "height": 4185
        }
      },
      "source": [
        "model.fit_generator(datagen.flow( X_train, Y_train, batch_size=128),\n",
        "                    steps_per_epoch=len( X_train) / 128, epochs=40, verbose=1, \n",
        "                    validation_data=datagen.flow( X_test, Y_test), validation_steps= len( X_test) / 128,callbacks=[LearningRateScheduler(scheduler, verbose=1), mcp_save])"
      ],
      "execution_count": 10,
      "outputs": [
        {
          "output_type": "stream",
          "text": [
            "WARNING:tensorflow:From /usr/local/lib/python3.6/dist-packages/tensorflow/python/ops/math_ops.py:3066: to_int32 (from tensorflow.python.ops.math_ops) is deprecated and will be removed in a future version.\n",
            "Instructions for updating:\n",
            "Use tf.cast instead.\n",
            "Epoch 1/40\n",
            "\n",
            "Epoch 00001: LearningRateScheduler setting learning rate to 0.003.\n",
            "469/468 [==============================] - 12s 25ms/step - loss: 0.6391 - acc: 0.8360 - val_loss: 0.1798 - val_acc: 0.9751\n",
            "\n",
            "Epoch 00001: val_loss improved from inf to 0.17978, saving model to assignment_5_weights.hdf5\n",
            "Epoch 2/40\n",
            "\n",
            "Epoch 00002: LearningRateScheduler setting learning rate to 0.0022744503.\n",
            "469/468 [==============================] - 8s 18ms/step - loss: 0.3600 - acc: 0.8829 - val_loss: 0.1119 - val_acc: 0.9818\n",
            "\n",
            "Epoch 00002: val_loss improved from 0.17978 to 0.11187, saving model to assignment_5_weights.hdf5\n",
            "Epoch 3/40\n",
            "\n",
            "Epoch 00003: LearningRateScheduler setting learning rate to 0.0018315018.\n",
            "469/468 [==============================] - 8s 18ms/step - loss: 0.3280 - acc: 0.8869 - val_loss: 0.0704 - val_acc: 0.9893\n",
            "\n",
            "Epoch 00003: val_loss improved from 0.11187 to 0.07037, saving model to assignment_5_weights.hdf5\n",
            "Epoch 4/40\n",
            "\n",
            "Epoch 00004: LearningRateScheduler setting learning rate to 0.0015329586.\n",
            "469/468 [==============================] - 8s 18ms/step - loss: 0.3159 - acc: 0.8880 - val_loss: 0.0681 - val_acc: 0.9873\n",
            "\n",
            "Epoch 00004: val_loss improved from 0.07037 to 0.06806, saving model to assignment_5_weights.hdf5\n",
            "Epoch 5/40\n",
            "\n",
            "Epoch 00005: LearningRateScheduler setting learning rate to 0.0013181019.\n",
            "469/468 [==============================] - 8s 18ms/step - loss: 0.3061 - acc: 0.8907 - val_loss: 0.0584 - val_acc: 0.9897\n",
            "\n",
            "Epoch 00005: val_loss improved from 0.06806 to 0.05835, saving model to assignment_5_weights.hdf5\n",
            "Epoch 6/40\n",
            "\n",
            "Epoch 00006: LearningRateScheduler setting learning rate to 0.0011560694.\n",
            "469/468 [==============================] - 8s 18ms/step - loss: 0.3011 - acc: 0.8905 - val_loss: 0.0449 - val_acc: 0.9913\n",
            "\n",
            "Epoch 00006: val_loss improved from 0.05835 to 0.04493, saving model to assignment_5_weights.hdf5\n",
            "Epoch 7/40\n",
            "\n",
            "Epoch 00007: LearningRateScheduler setting learning rate to 0.0010295127.\n",
            "469/468 [==============================] - 8s 18ms/step - loss: 0.2895 - acc: 0.8945 - val_loss: 0.0524 - val_acc: 0.9881\n",
            "\n",
            "Epoch 00007: val_loss did not improve from 0.04493\n",
            "Epoch 8/40\n",
            "\n",
            "Epoch 00008: LearningRateScheduler setting learning rate to 0.0009279307.\n",
            "469/468 [==============================] - 8s 18ms/step - loss: 0.2908 - acc: 0.8941 - val_loss: 0.0430 - val_acc: 0.9920\n",
            "\n",
            "Epoch 00008: val_loss improved from 0.04493 to 0.04299, saving model to assignment_5_weights.hdf5\n",
            "Epoch 9/40\n",
            "\n",
            "Epoch 00009: LearningRateScheduler setting learning rate to 0.0008445946.\n",
            "469/468 [==============================] - 8s 18ms/step - loss: 0.2825 - acc: 0.8960 - val_loss: 0.0341 - val_acc: 0.9929\n",
            "\n",
            "Epoch 00009: val_loss improved from 0.04299 to 0.03412, saving model to assignment_5_weights.hdf5\n",
            "Epoch 10/40\n",
            "\n",
            "Epoch 00010: LearningRateScheduler setting learning rate to 0.0007749935.\n",
            "469/468 [==============================] - 8s 18ms/step - loss: 0.2833 - acc: 0.8964 - val_loss: 0.0428 - val_acc: 0.9909\n",
            "\n",
            "Epoch 00010: val_loss did not improve from 0.03412\n",
            "Epoch 11/40\n",
            "\n",
            "Epoch 00011: LearningRateScheduler setting learning rate to 0.0007159905.\n",
            "469/468 [==============================] - 9s 18ms/step - loss: 0.2782 - acc: 0.8976 - val_loss: 0.0368 - val_acc: 0.9913\n",
            "\n",
            "Epoch 00011: val_loss did not improve from 0.03412\n",
            "Epoch 12/40\n",
            "\n",
            "Epoch 00012: LearningRateScheduler setting learning rate to 0.000665336.\n",
            "469/468 [==============================] - 9s 18ms/step - loss: 0.2806 - acc: 0.8959 - val_loss: 0.0357 - val_acc: 0.9928\n",
            "\n",
            "Epoch 00012: val_loss did not improve from 0.03412\n",
            "Epoch 13/40\n",
            "\n",
            "Epoch 00013: LearningRateScheduler setting learning rate to 0.0006213753.\n",
            "469/468 [==============================] - 8s 18ms/step - loss: 0.2783 - acc: 0.8964 - val_loss: 0.0320 - val_acc: 0.9929\n",
            "\n",
            "Epoch 00013: val_loss improved from 0.03412 to 0.03198, saving model to assignment_5_weights.hdf5\n",
            "Epoch 14/40\n",
            "\n",
            "Epoch 00014: LearningRateScheduler setting learning rate to 0.0005828638.\n",
            "469/468 [==============================] - 8s 18ms/step - loss: 0.2739 - acc: 0.8975 - val_loss: 0.0302 - val_acc: 0.9929\n",
            "\n",
            "Epoch 00014: val_loss improved from 0.03198 to 0.03020, saving model to assignment_5_weights.hdf5\n",
            "Epoch 15/40\n",
            "\n",
            "Epoch 00015: LearningRateScheduler setting learning rate to 0.0005488474.\n",
            "469/468 [==============================] - 8s 18ms/step - loss: 0.2690 - acc: 0.9005 - val_loss: 0.0263 - val_acc: 0.9949\n",
            "\n",
            "Epoch 00015: val_loss improved from 0.03020 to 0.02627, saving model to assignment_5_weights.hdf5\n",
            "Epoch 16/40\n",
            "\n",
            "Epoch 00016: LearningRateScheduler setting learning rate to 0.0005185825.\n",
            "469/468 [==============================] - 8s 18ms/step - loss: 0.2704 - acc: 0.8996 - val_loss: 0.0336 - val_acc: 0.9936\n",
            "\n",
            "Epoch 00016: val_loss did not improve from 0.02627\n",
            "Epoch 17/40\n",
            "\n",
            "Epoch 00017: LearningRateScheduler setting learning rate to 0.000491481.\n",
            "469/468 [==============================] - 8s 18ms/step - loss: 0.2691 - acc: 0.8999 - val_loss: 0.0301 - val_acc: 0.9945\n",
            "\n",
            "Epoch 00017: val_loss did not improve from 0.02627\n",
            "Epoch 18/40\n",
            "\n",
            "Epoch 00018: LearningRateScheduler setting learning rate to 0.0004670715.\n",
            "469/468 [==============================] - 8s 18ms/step - loss: 0.2741 - acc: 0.8975 - val_loss: 0.0274 - val_acc: 0.9949\n",
            "\n",
            "Epoch 00018: val_loss did not improve from 0.02627\n",
            "Epoch 19/40\n",
            "\n",
            "Epoch 00019: LearningRateScheduler setting learning rate to 0.0004449718.\n",
            "469/468 [==============================] - 8s 18ms/step - loss: 0.2686 - acc: 0.8999 - val_loss: 0.0270 - val_acc: 0.9945\n",
            "\n",
            "Epoch 00019: val_loss did not improve from 0.02627\n",
            "Epoch 20/40\n",
            "\n",
            "Epoch 00020: LearningRateScheduler setting learning rate to 0.000424869.\n",
            "469/468 [==============================] - 8s 18ms/step - loss: 0.2720 - acc: 0.8988 - val_loss: 0.0278 - val_acc: 0.9924\n",
            "\n",
            "Epoch 00020: val_loss did not improve from 0.02627\n",
            "Epoch 21/40\n",
            "\n",
            "Epoch 00021: LearningRateScheduler setting learning rate to 0.0004065041.\n",
            "469/468 [==============================] - 8s 18ms/step - loss: 0.2709 - acc: 0.8982 - val_loss: 0.0333 - val_acc: 0.9945\n",
            "\n",
            "Epoch 00021: val_loss did not improve from 0.02627\n",
            "Epoch 22/40\n",
            "\n",
            "Epoch 00022: LearningRateScheduler setting learning rate to 0.000389661.\n",
            "469/468 [==============================] - 8s 18ms/step - loss: 0.2686 - acc: 0.8994 - val_loss: 0.0313 - val_acc: 0.9921\n",
            "\n",
            "Epoch 00022: val_loss did not improve from 0.02627\n",
            "Epoch 23/40\n",
            "\n",
            "Epoch 00023: LearningRateScheduler setting learning rate to 0.0003741581.\n",
            "469/468 [==============================] - 8s 18ms/step - loss: 0.2710 - acc: 0.8975 - val_loss: 0.0247 - val_acc: 0.9945\n",
            "\n",
            "Epoch 00023: val_loss improved from 0.02627 to 0.02465, saving model to assignment_5_weights.hdf5\n",
            "Epoch 24/40\n",
            "\n",
            "Epoch 00024: LearningRateScheduler setting learning rate to 0.0003598417.\n",
            "469/468 [==============================] - 8s 17ms/step - loss: 0.2693 - acc: 0.8992 - val_loss: 0.0270 - val_acc: 0.9952\n",
            "\n",
            "Epoch 00024: val_loss did not improve from 0.02465\n",
            "Epoch 25/40\n",
            "\n",
            "Epoch 00025: LearningRateScheduler setting learning rate to 0.0003465804.\n",
            "469/468 [==============================] - 8s 18ms/step - loss: 0.2684 - acc: 0.9001 - val_loss: 0.0340 - val_acc: 0.9913\n",
            "\n",
            "Epoch 00025: val_loss did not improve from 0.02465\n",
            "Epoch 26/40\n",
            "\n",
            "Epoch 00026: LearningRateScheduler setting learning rate to 0.0003342618.\n",
            "469/468 [==============================] - 8s 18ms/step - loss: 0.2651 - acc: 0.9007 - val_loss: 0.0173 - val_acc: 0.9976\n",
            "\n",
            "Epoch 00026: val_loss improved from 0.02465 to 0.01729, saving model to assignment_5_weights.hdf5\n",
            "Epoch 27/40\n",
            "\n",
            "Epoch 00027: LearningRateScheduler setting learning rate to 0.0003227889.\n",
            "469/468 [==============================] - 8s 17ms/step - loss: 0.2669 - acc: 0.9001 - val_loss: 0.0201 - val_acc: 0.9968\n",
            "\n",
            "Epoch 00027: val_loss did not improve from 0.01729\n",
            "Epoch 28/40\n",
            "\n",
            "Epoch 00028: LearningRateScheduler setting learning rate to 0.0003120774.\n",
            "469/468 [==============================] - 8s 18ms/step - loss: 0.2650 - acc: 0.9008 - val_loss: 0.0350 - val_acc: 0.9920\n",
            "\n",
            "Epoch 00028: val_loss did not improve from 0.01729\n",
            "Epoch 29/40\n",
            "\n",
            "Epoch 00029: LearningRateScheduler setting learning rate to 0.000302054.\n",
            "469/468 [==============================] - 8s 18ms/step - loss: 0.2671 - acc: 0.8999 - val_loss: 0.0145 - val_acc: 0.9972\n",
            "\n",
            "Epoch 00029: val_loss improved from 0.01729 to 0.01447, saving model to assignment_5_weights.hdf5\n",
            "Epoch 30/40\n",
            "\n",
            "Epoch 00030: LearningRateScheduler setting learning rate to 0.0002926544.\n",
            "469/468 [==============================] - 8s 18ms/step - loss: 0.2683 - acc: 0.8996 - val_loss: 0.0166 - val_acc: 0.9968\n",
            "\n",
            "Epoch 00030: val_loss did not improve from 0.01447\n",
            "Epoch 31/40\n",
            "\n",
            "Epoch 00031: LearningRateScheduler setting learning rate to 0.0002838221.\n",
            "469/468 [==============================] - 8s 18ms/step - loss: 0.2590 - acc: 0.9023 - val_loss: 0.0332 - val_acc: 0.9913\n",
            "\n",
            "Epoch 00031: val_loss did not improve from 0.01447\n",
            "Epoch 32/40\n",
            "\n",
            "Epoch 00032: LearningRateScheduler setting learning rate to 0.0002755074.\n",
            "469/468 [==============================] - 8s 18ms/step - loss: 0.2618 - acc: 0.9012 - val_loss: 0.0364 - val_acc: 0.9924\n",
            "\n",
            "Epoch 00032: val_loss did not improve from 0.01447\n",
            "Epoch 33/40\n",
            "\n",
            "Epoch 00033: LearningRateScheduler setting learning rate to 0.000267666.\n",
            "469/468 [==============================] - 8s 18ms/step - loss: 0.2631 - acc: 0.9011 - val_loss: 0.0248 - val_acc: 0.9933\n",
            "\n",
            "Epoch 00033: val_loss did not improve from 0.01447\n",
            "Epoch 34/40\n",
            "\n",
            "Epoch 00034: LearningRateScheduler setting learning rate to 0.0002602585.\n",
            "469/468 [==============================] - 8s 18ms/step - loss: 0.2621 - acc: 0.9015 - val_loss: 0.0213 - val_acc: 0.9960\n",
            "\n",
            "Epoch 00034: val_loss did not improve from 0.01447\n",
            "Epoch 35/40\n",
            "\n",
            "Epoch 00035: LearningRateScheduler setting learning rate to 0.00025325.\n",
            "469/468 [==============================] - 8s 18ms/step - loss: 0.2589 - acc: 0.9033 - val_loss: 0.0236 - val_acc: 0.9937\n",
            "\n",
            "Epoch 00035: val_loss did not improve from 0.01447\n",
            "Epoch 36/40\n",
            "\n",
            "Epoch 00036: LearningRateScheduler setting learning rate to 0.0002466091.\n",
            "469/468 [==============================] - 8s 18ms/step - loss: 0.2621 - acc: 0.9013 - val_loss: 0.0298 - val_acc: 0.9944\n",
            "\n",
            "Epoch 00036: val_loss did not improve from 0.01447\n",
            "Epoch 37/40\n",
            "\n",
            "Epoch 00037: LearningRateScheduler setting learning rate to 0.0002403076.\n",
            "469/468 [==============================] - 8s 17ms/step - loss: 0.2599 - acc: 0.9019 - val_loss: 0.0176 - val_acc: 0.9960\n",
            "\n",
            "Epoch 00037: val_loss did not improve from 0.01447\n",
            "Epoch 38/40\n",
            "\n",
            "Epoch 00038: LearningRateScheduler setting learning rate to 0.0002343201.\n",
            "469/468 [==============================] - 8s 18ms/step - loss: 0.2624 - acc: 0.9018 - val_loss: 0.0246 - val_acc: 0.9949\n",
            "\n",
            "Epoch 00038: val_loss did not improve from 0.01447\n",
            "Epoch 39/40\n",
            "\n",
            "Epoch 00039: LearningRateScheduler setting learning rate to 0.0002286237.\n",
            "469/468 [==============================] - 8s 18ms/step - loss: 0.2603 - acc: 0.9021 - val_loss: 0.0287 - val_acc: 0.9917\n",
            "\n",
            "Epoch 00039: val_loss did not improve from 0.01447\n",
            "Epoch 40/40\n",
            "\n",
            "Epoch 00040: LearningRateScheduler setting learning rate to 0.0002231977.\n",
            "469/468 [==============================] - 8s 18ms/step - loss: 0.2598 - acc: 0.9027 - val_loss: 0.0221 - val_acc: 0.9960\n",
            "\n",
            "Epoch 00040: val_loss did not improve from 0.01447\n"
          ],
          "name": "stdout"
        },
        {
          "output_type": "execute_result",
          "data": {
            "text/plain": [
              "<keras.callbacks.History at 0x7f6a09db1e10>"
            ]
          },
          "metadata": {
            "tags": []
          },
          "execution_count": 10
        }
      ]
    },
    {
      "cell_type": "markdown",
      "metadata": {
        "id": "T9k_YmtkqA0N",
        "colab_type": "text"
      },
      "source": [
        "Loading the model weights for best validation score"
      ]
    },
    {
      "cell_type": "code",
      "metadata": {
        "id": "kM7hyAjEUT_n",
        "colab_type": "code",
        "colab": {}
      },
      "source": [
        "model.load_weights(model_filename)"
      ],
      "execution_count": 0,
      "outputs": []
    },
    {
      "cell_type": "code",
      "metadata": {
        "id": "WLxlW9ufyQiO",
        "colab_type": "code",
        "outputId": "e6c68c47-33a1-42d5-a099-201b827993ea",
        "colab": {
          "base_uri": "https://localhost:8080/",
          "height": 34
        }
      },
      "source": [
        "score = model.evaluate_generator(datagen.flow(X_test, Y_test), steps= len(X_test)/32)\n",
        "print(score)"
      ],
      "execution_count": 12,
      "outputs": [
        {
          "output_type": "stream",
          "text": [
            "[0.025291484800726176, 0.9945]\n"
          ],
          "name": "stdout"
        }
      ]
    },
    {
      "cell_type": "markdown",
      "metadata": {
        "id": "iGhVHvD7psQ9",
        "colab_type": "text"
      },
      "source": [
        "Note that while predicting, **shuffle** needs to be turned off, else, we cannot get back indices to match with original test dataset"
      ]
    },
    {
      "cell_type": "code",
      "metadata": {
        "id": "QQRzjsH9Wvs5",
        "colab_type": "code",
        "colab": {}
      },
      "source": [
        "predictions = model.predict_generator(datagen.flow(X_test, Y_test, shuffle=False), steps= len(X_test)/32)\n",
        "  \n",
        "  \n"
      ],
      "execution_count": 0,
      "outputs": []
    },
    {
      "cell_type": "code",
      "metadata": {
        "id": "m2qDl21ozBnW",
        "colab_type": "code",
        "colab": {}
      },
      "source": [
        "def get_wrongly_classified_indices(predictions, y_vals):\n",
        "  \n",
        "  \"\"\"\n",
        "  Takes predicted and actual values\n",
        "  Returns a tuple of misclassified image indexes and their corresponding predicted and actual values\n",
        "  \n",
        "  NOTE: Make sure your predictions are in the same order of actuals, using shuffle=False while predicting would be important\n",
        "  \n",
        "  Params:\n",
        "  predictions: probability values of predictions\n",
        "  y_vals: actual values of data\n",
        "  \"\"\"\n",
        "  \n",
        "  predicted_y = np.argmax(predictions, axis=1)\n",
        "  \n",
        "  actual_y = np.argmax(y_vals, axis = 1)\n",
        "  \n",
        "  wrong_indices = np.nonzero(~(actual_y == predicted_y))\n",
        "  \n",
        "  return (wrong_indices[0], predicted_y[wrong_indices[0]], actual_y[wrong_indices[0]])\n",
        "  \n",
        "  \n",
        "  \n",
        "  "
      ],
      "execution_count": 0,
      "outputs": []
    },
    {
      "cell_type": "code",
      "metadata": {
        "id": "BUtkTZX_dKjc",
        "colab_type": "code",
        "outputId": "1d4a9b11-2071-4d59-dabc-234ecd8ea928",
        "colab": {
          "base_uri": "https://localhost:8080/",
          "height": 204
        }
      },
      "source": [
        "misclassified_image_idx = get_wrongly_classified_indices(predictions, Y_test)\n",
        "\n",
        "misclassified_image_idx"
      ],
      "execution_count": 15,
      "outputs": [
        {
          "output_type": "execute_result",
          "data": {
            "text/plain": [
              "(array([ 321,  445,  449,  582,  740,  947,  965, 1014, 1112, 1232, 1242,\n",
              "        1260, 1681, 1878, 1901, 2018, 2035, 2130, 2135, 2293, 2369, 2447,\n",
              "        2597, 2654, 2896, 2927, 2939, 3030, 3225, 3422, 3448, 3520, 3726,\n",
              "        3762, 3767, 3941, 4201, 4284, 4740, 4783, 6558, 6572, 6576, 6597,\n",
              "        6625, 8339, 8408, 8527, 9009, 9015, 9620, 9638, 9669, 9692, 9729]),\n",
              " array([7, 0, 5, 2, 9, 9, 0, 5, 6, 4, 9, 1, 7, 3, 4, 7, 3, 9, 1, 0, 3, 9,\n",
              "        3, 1, 0, 2, 5, 0, 9, 0, 2, 2, 9, 8, 2, 6, 7, 5, 5, 9, 2, 7, 1, 7,\n",
              "        2, 5, 2, 9, 2, 2, 7, 7, 7, 7, 6]),\n",
              " array([2, 6, 3, 8, 4, 8, 6, 6, 4, 9, 4, 7, 3, 8, 9, 1, 5, 4, 6, 9, 5, 4,\n",
              "        5, 6, 8, 3, 9, 6, 7, 6, 3, 6, 4, 6, 7, 4, 1, 9, 3, 4, 6, 1, 7, 0,\n",
              "        8, 8, 8, 4, 7, 7, 9, 9, 4, 9, 5]))"
            ]
          },
          "metadata": {
            "tags": []
          },
          "execution_count": 15
        }
      ]
    },
    {
      "cell_type": "code",
      "metadata": {
        "id": "SSZhluf1fle8",
        "colab_type": "code",
        "colab": {}
      },
      "source": [
        "number_of_im = len(misclassified_image_idx[0])\n",
        "\n",
        "if (number_of_im) > 25:\n",
        "  number_of_im = 25\n",
        "\n",
        "figures = {}\n",
        "\n",
        "for i in range(number_of_im):\n",
        "  \n",
        "  title = str(i+1)+'.\\tPredicted: '.expandtabs()+str(misclassified_image_idx[1][i]) + '\\n\\tActual: '.expandtabs() + str(misclassified_image_idx[2][i])\n",
        "  \n",
        "  img_idx = misclassified_image_idx[0][i]\n",
        "  \n",
        "  image = X_test[img_idx].reshape(28,28)\n",
        "  \n",
        "  figures[title] = image\n",
        "  "
      ],
      "execution_count": 0,
      "outputs": []
    },
    {
      "cell_type": "code",
      "metadata": {
        "id": "hNIDJgm1howp",
        "colab_type": "code",
        "colab": {}
      },
      "source": [
        "def plot_figures(figures, nrows = 1, ncols=1):\n",
        "    \"\"\"Plot a dictionary of figures.\n",
        "\n",
        "    Parameters\n",
        "    ----------\n",
        "    figures : <title, figure> dictionary\n",
        "    ncols : number of columns of subplots wanted in the display\n",
        "    nrows : number of rows of subplots wanted in the figure\n",
        "    \"\"\"\n",
        "\n",
        "    fig, axeslist = plt.subplots(ncols=ncols, nrows=nrows, figsize=(15,20))\n",
        "    for ind,title in enumerate(figures):\n",
        "        axeslist.ravel()[ind].imshow(figures[title],)\n",
        "        axeslist.ravel()[ind].set_title(title)\n",
        "        axeslist.ravel()[ind].set_axis_off()\n",
        "    #plt.tight_layout() # optional\n",
        "    plt.subplots_adjust(hspace = 0.5)\n",
        "    plt.show()"
      ],
      "execution_count": 0,
      "outputs": []
    },
    {
      "cell_type": "code",
      "metadata": {
        "id": "Nq8niAV6guRO",
        "colab_type": "code",
        "outputId": "192eb798-815c-4c03-cd7b-d66242297df0",
        "colab": {
          "base_uri": "https://localhost:8080/",
          "height": 1155
        }
      },
      "source": [
        "plot_figures(figures, 5, 5)"
      ],
      "execution_count": 29,
      "outputs": [
        {
          "output_type": "display_data",
          "data": {
            "image/png": "[encoded data removed]",
            "text/plain": [
              "<Figure size 1080x1440 with 25 Axes>"
            ]
          },
          "metadata": {
            "tags": []
          }
        }
      ]
    },
    {
      "cell_type": "code",
      "metadata": {
        "id": "fs_O7HvvhQEf",
        "colab_type": "code",
        "colab": {}
      },
      "source": [
        ""
      ],
      "execution_count": 0,
      "outputs": []
    }
  ]
}